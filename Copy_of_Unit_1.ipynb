{
  "nbformat": 4,
  "nbformat_minor": 0,
  "metadata": {
    "colab": {
      "name": "Copy of Unit 1.ipynb",
      "provenance": [],
      "authorship_tag": "ABX9TyPDRxvcTd4r1A49+PrTPftm",
      "include_colab_link": true
    },
    "kernelspec": {
      "name": "python3",
      "display_name": "Python 3"
    },
    "language_info": {
      "name": "python"
    }
  },
  "cells": [
    {
      "cell_type": "markdown",
      "metadata": {
        "id": "view-in-github",
        "colab_type": "text"
      },
      "source": [
        "<a href=\"https://colab.research.google.com/github/yourush14/yourush14/blob/main/Copy_of_Unit_1.ipynb\" target=\"_parent\"><img src=\"https://colab.research.google.com/assets/colab-badge.svg\" alt=\"Open In Colab\"/></a>"
      ]
    },
    {
      "cell_type": "code",
      "execution_count": null,
      "metadata": {
        "colab": {
          "base_uri": "https://localhost:8080/"
        },
        "id": "I-IadM3-PmZZ",
        "outputId": "96b87229-00a5-4474-8762-fbbccbb2327d"
      },
      "outputs": [
        {
          "output_type": "stream",
          "name": "stdout",
          "text": [
            "10 100 200 300\n",
            "10.5 150.0\n",
            "3.14j 3.14 0.0\n"
          ]
        }
      ],
      "source": [
        "a=0b1010\n",
        "b=100\n",
        "c=0o310\n",
        "d=0x12c\n",
        "float_1= 10.5\n",
        "float_2= 1.5e2\n",
        "x= 3.14j\n",
        "print(a,b,c, d)\n",
        "print(float_1, float_2)\n",
        "print(x, x.imag, x.real)"
      ]
    },
    {
      "cell_type": "code",
      "source": [
        "a = int(input(\"Enter a=15 \"));  \n",
        "b = int(input(\"Enter b=10 \"));  \n",
        "c = int(input(\"Enter c=15 \"));  \n",
        "if a>b and a>c:  \n",
        "    print(\"a is largest\");  \n",
        "if b>a and b>c:  \n",
        "    print(\"b is largest\");  \n",
        "if c>a and c>b:  \n",
        "    print(\"c is largest\");"
      ],
      "metadata": {
        "colab": {
          "base_uri": "https://localhost:8080/"
        },
        "id": "IhkB9d2GPzx8",
        "outputId": "536753f0-4a79-4b4a-9e29-79ec39710b1f"
      },
      "execution_count": null,
      "outputs": [
        {
          "output_type": "stream",
          "name": "stdout",
          "text": [
            "Enter a=15 25\n",
            "Enter b=10 55\n",
            "Enter c=15 44\n",
            "b is largest\n"
          ]
        }
      ]
    },
    {
      "cell_type": "code",
      "source": [
        "x=int(input(\"Enter x=200\"));\n",
        "y=int(input(\"Enter y=500\"));\n",
        "z=int(input(\"Enter z=800\"));\n",
        "if x<y and x<z:\n",
        "     print(\"x is lesser value\");\n",
        "if y<z and y<x:\n",
        "     print(\"y is lesser value\");\n",
        "if z<x and z<y:\n",
        "     print(\"z is lesser value\");"
      ],
      "metadata": {
        "colab": {
          "base_uri": "https://localhost:8080/"
        },
        "id": "P2buqhM6QAmg",
        "outputId": "0d2e83e9-ddac-4855-a4d0-08966df9eb39"
      },
      "execution_count": null,
      "outputs": [
        {
          "name": "stdout",
          "output_type": "stream",
          "text": [
            "Enter x=200100\n",
            "Enter y=50050\n",
            "Enter z=80050\n"
          ]
        }
      ]
    },
    {
      "cell_type": "code",
      "source": [
        "x = 10\n",
        "if x % 2 == 0:\n",
        "  print('even number')\n",
        "elif x % 2 == 1:\n",
        "  print('odd number')\n",
        "else:\n",
        "  print('enter a number')"
      ],
      "metadata": {
        "colab": {
          "base_uri": "https://localhost:8080/"
        },
        "id": "6r9jrBxBRomF",
        "outputId": "8f992404-e4b5-48f2-f2bd-b8727e91ca5b"
      },
      "execution_count": null,
      "outputs": [
        {
          "output_type": "stream",
          "name": "stdout",
          "text": [
            "even number\n"
          ]
        }
      ]
    },
    {
      "cell_type": "code",
      "source": [
        "a = 10\n",
        "b = 20\n",
        "if a > b and a > 10 :\n",
        "  print(\"greater\")\n",
        "elif a < b or a < 10:\n",
        "  print(\"smaller\")\n",
        "else:\n",
        "  print(\"not a valid number\")"
      ],
      "metadata": {
        "colab": {
          "base_uri": "https://localhost:8080/"
        },
        "id": "e5jprFoZRqN5",
        "outputId": "34799981-7885-4a50-cad4-2afc011bf887"
      },
      "execution_count": null,
      "outputs": [
        {
          "output_type": "stream",
          "name": "stdout",
          "text": [
            "smaller\n"
          ]
        }
      ]
    },
    {
      "cell_type": "code",
      "source": [
        "strings=\"This is python\"\n",
        "char=\"c\"\n",
        "multiline_str=\"\"\"This is multiline string with more than one line code\"\"\"\n",
        "unicode= u\"\\u00dcnic\\u00fde\"\n",
        "raw_str= r\"raw \\n string\"\n",
        "print(strings)\n",
        "print(char)\n",
        "print(multiline_str)\n",
        "print(unicode)\n",
        "print(raw_str)"
      ],
      "metadata": {
        "colab": {
          "base_uri": "https://localhost:8080/"
        },
        "id": "nwKWneYER6LW",
        "outputId": "52a5710f-fbf1-4bcf-e41f-e9a2533b7b18"
      },
      "execution_count": null,
      "outputs": [
        {
          "output_type": "stream",
          "name": "stdout",
          "text": [
            "This is python\n",
            "c\n",
            "This is multiline string with more than one line code\n",
            "Ünicýe\n",
            "raw \\n string\n"
          ]
        }
      ]
    },
    {
      "cell_type": "code",
      "source": [
        "fruits=[\"apple\", \"mango\", \"orange\"]\n",
        "numbers=(1, 2, 3)\n",
        "alphabets={'a': 'apple', 'b': 'ball', 'c': 'cat'}\n",
        "vowels={'a', 'e', 'i', 'o', 'u'}\n",
        "print(fruits)\n",
        "print(numbers)\n",
        "print(alphabets)\n",
        "print(vowels)"
      ],
      "metadata": {
        "colab": {
          "base_uri": "https://localhost:8080/"
        },
        "id": "QBqmHnkgSAo3",
        "outputId": "31726308-0311-4877-e31c-0e34542e922e"
      },
      "execution_count": null,
      "outputs": [
        {
          "output_type": "stream",
          "name": "stdout",
          "text": [
            "['apple', 'mango', 'orange']\n",
            "(1, 2, 3)\n",
            "{'a': 'apple', 'b': 'ball', 'c': 'cat'}\n",
            "{'o', 'a', 'u', 'i', 'e'}\n"
          ]
        }
      ]
    },
    {
      "cell_type": "code",
      "source": [
        "print(\"choice 1: Add, 2: Sub, 3: Div, 4: Mul, 5: Quit\")\n",
        "n1=input(\"Enter the choice of operation:\")\n",
        "n=int(n1)\n",
        "if(n==1):\n",
        "    print(\"You have choosen addition option:\")\n",
        "    a1=input(\"Enter the value for A:\")\n",
        "    b1=input(\"Enter the value for B:\")\n",
        "    a=int(a1)\n",
        "    b=int(b1)\n",
        "    c=a+b\n",
        "    print(\"The Result\",a,\"+\",b,\"=\",c)\n",
        "    print(\"You have choosen subraction option:\")\n",
        "    a1=input(\"Enter the value for A:\")\n",
        "    b1=input(\"Enter the value for B:\")\n",
        "    a=int(a1)\n",
        "    b=int(b1)\n",
        "    c=a-b\n",
        "    print(\"The Result\",a,\"-\",b,\"=\",c)\n",
        "elif(n==3):\n",
        "    print(\"You have choosen division option\")\n",
        "    a1=input(\"Enter the value for A:\")\n",
        "    b1=input(\"Enter the value for B:\")\n",
        "    a=int(a1)\n",
        "    b=int(b1)\n",
        "    c=a/b\n",
        "    print(\"The Result\",a,\"/\",b,\"=\",c)\n",
        "elif(n==4):\n",
        "    print(\"You have choosen multiplication option\")\n",
        "    a1=input(\"Enter the value for A:\")\n",
        "    b1=input(\"Enter the value for B:\")\n",
        "    a=int(a1)\n",
        "    b=(b1)\n",
        "    c=a*b\n",
        "    print(\"The Result\",a,\"*\",b\"=\",c)\n",
        "elif(n==5):\n",
        "    print(\"You have given a wrong:\",n)\n",
        "    exit()"
      ],
      "metadata": {
        "colab": {
          "base_uri": "https://localhost:8080/"
        },
        "id": "LRysS0B6SFiW",
        "outputId": "17425e2c-6391-40fd-a469-33172057aafd"
      },
      "execution_count": null,
      "outputs": [
        {
          "output_type": "stream",
          "name": "stdout",
          "text": [
            "choice 1: Add, 2: Sub, 3: Div, 4: Mul, 5: Quit\n",
            "Enter the choice of operation:4\n",
            "You have choosen multiplication option\n",
            "Enter the value for A:50\n",
            "Enter the value for B:45\n",
            "The Result 50 * b'=' 4545454545454545454545454545454545454545454545454545454545454545454545454545454545454545454545454545\n"
          ]
        }
      ]
    },
    {
      "cell_type": "code",
      "source": [
        "print(\"Fibonocci Series\")\n",
        "n1=input(\"Enter the number:\")\n",
        "n=int(n1)\n",
        "if(n>0):\n",
        "     f=0\n",
        "     s=1\n",
        "     i=0\n",
        "     next=0\n",
        "     while(1):\n",
        "       print(\"\\n\\********\")\n",
        "       for i in range(n+1):\n",
        "         if(i<=1):\n",
        "           print(i)\n",
        "         else:\n",
        "           next=f+sf=s\n",
        "           s=next\n",
        "           print(next)\n",
        "         i=i+1\n",
        "break\n",
        "         else:\n",
        "            print(\"You have entered wrong input\",n)"
      ],
      "metadata": {
        "colab": {
          "base_uri": "https://localhost:8080/",
          "height": 147
        },
        "id": "KtgdLJ6LSMSo",
        "outputId": "2c1c0d0f-bf71-449c-bd16-2a1805735744"
      },
      "execution_count": null,
      "outputs": [
        {
          "output_type": "error",
          "ename": "IndentationError",
          "evalue": "ignored",
          "traceback": [
            "\u001b[0;36m  File \u001b[0;32m\"<ipython-input-11-d85cd8b963c9>\"\u001b[0;36m, line \u001b[0;32m20\u001b[0m\n\u001b[0;31m    else:\u001b[0m\n\u001b[0m    ^\u001b[0m\n\u001b[0;31mIndentationError\u001b[0m\u001b[0;31m:\u001b[0m unexpected indent\n"
          ]
        }
      ]
    },
    {
      "cell_type": "code",
      "source": [
        "num1=input('Enter first number:')\n",
        "num2=input('Enter second number:')\n",
        "sum=float(num1) + float(num2)\n",
        "print('The sum of {0} and {1} is {2}'.format(num1,num2"
      ],
      "metadata": {
        "colab": {
          "base_uri": "https://localhost:8080/",
          "height": 198
        },
        "id": "r1bnTd0TSYEs",
        "outputId": "85215665-a61b-4f98-9fe8-21d00e6c3d53"
      },
      "execution_count": null,
      "outputs": [
        {
          "output_type": "error",
          "ename": "SyntaxError",
          "evalue": "ignored",
          "traceback": [
            "\u001b[0;36m  File \u001b[0;32m\"<ipython-input-12-47854e874224>\"\u001b[0;36m, line \u001b[0;32m4\u001b[0m\n\u001b[0;31m    print('The sum of {0} and {1} is {2}'.format(num1,num2\u001b[0m\n\u001b[0m                                                          ^\u001b[0m\n\u001b[0;31mSyntaxError\u001b[0m\u001b[0;31m:\u001b[0m unexpected EOF while parsing\n"
          ]
        }
      ]
    },
    {
      "cell_type": "code",
      "source": [
        "x = 10\n",
        "if x != 0:\n",
        "   if x % 2 == 0:\n",
        "      print('even number')\n",
        "   else:\n",
        "      print('odd number')\n",
        "elif x == 0:\n",
        "   print('equal to zero')\n",
        "elif x > 0:\n",
        "  for i in range(2,x):\n",
        "     if i % 2 == 0:\n",
        "        print('not a prime number')\n",
        "     else:\n",
        "        print('prime number')\n",
        "else:\n",
        "   print('less than zero')"
      ],
      "metadata": {
        "colab": {
          "base_uri": "https://localhost:8080/"
        },
        "id": "jDYEcfopRvhX",
        "outputId": "7659a7b6-333c-4881-bfd2-92fb3fa318f9"
      },
      "execution_count": null,
      "outputs": [
        {
          "output_type": "stream",
          "name": "stdout",
          "text": [
            "even number\n"
          ]
        }
      ]
    }
  ]
}